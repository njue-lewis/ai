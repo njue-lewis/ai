{
  "nbformat": 4,
  "nbformat_minor": 0,
  "metadata": {
    "colab": {
      "provenance": []
    },
    "kernelspec": {
      "name": "python3",
      "display_name": "Python 3"
    },
    "language_info": {
      "name": "python"
    }
  },
  "cells": [
    {
      "cell_type": "code",
      "execution_count": 2,
      "metadata": {
        "id": "REiK6dZr4g-U"
      },
      "outputs": [],
      "source": [
        "import numpy as np\n",
        "import matplotlib.pyplot as plt\n",
        "\n",
        "from matplotlib.colors import ListedColormap\n",
        "\n",
        "from collections import deque"
      ]
    },
    {
      "cell_type": "code",
      "source": [
        "def bfs(maze, start, goal):\n",
        "    queue = deque([(start, [])])\n",
        "    visited = set()\n",
        "\n",
        "    while queue:\n",
        "        current, path = queue.popleft()\n",
        "        x, y = current\n",
        "\n",
        "        if current == goal:\n",
        "            return path + [current]\n",
        "\n",
        "        if current in visited:\n",
        "            continue\n",
        "\n",
        "        visited.add(current)\n",
        "\n",
        "        for dx, dy in [(0, 1), (0, -1), (1, 0), (-1, 0)]:\n",
        "            nx, ny = x + dx, y + dy\n",
        "            if 0 <= nx < len(maze) and 0 <= ny < len(maze[0]) and maze[nx][ny] != 1:\n",
        "                queue.append(((nx, ny), path + [current]))\n",
        "\n",
        "    return None\n",
        "\n",
        "def visualize_maze(maze, start, goal, path=None):\n",
        "    cmap = ListedColormap(['white', 'black', 'red', 'blue', 'green'])\n",
        "    bounds = [0, 0.5, 1.5, 2.5, 3.5, 4.5]\n",
        "    norm = plt.Normalize(bounds[0], bounds[-1])\n",
        "\n",
        "    fig, ax = plt.subplots()\n",
        "    ax.imshow(maze, cmap=cmap, norm=norm)\n",
        "\n",
        "    ax.scatter(start[1], start[0], color='yellow', marker='o', label='Start')\n",
        "    ax.scatter(goal[1], goal[0], color='purple', marker='o', label='Goal')\n",
        "\n",
        "    if path:\n",
        "        for node in path[1:-1]:\n",
        "            ax.scatter(node[1], node[0], color='green', marker='o')\n",
        "\n",
        "    ax.legend()\n",
        "    plt.show()\n",
        "\n",
        "# Example maze\n",
        "maze = np.array([\n",
        "    [0, 0, 0, 0, 0],\n",
        "    [1, 1, 0, 1, 1],\n",
        "    [0, 0, 0, 0, 0],\n",
        "    [0, 1, 1, 1, 0],\n",
        "    [0, 0, 0, 0, 0]\n",
        "])\n",
        "\n",
        "start = (0, 0)\n",
        "goal = (4, 4)\n",
        "\n",
        "path = bfs(maze, start, goal)\n",
        "\n",
        "visualize_maze(maze, start, goal, path)\n"
      ],
      "metadata": {
        "colab": {
          "base_uri": "https://localhost:8080/",
          "height": 430
        },
        "id": "eAPts51i4tYW",
        "outputId": "fdfb8a93-4b62-4b39-f519-409fdb34043b"
      },
      "execution_count": 3,
      "outputs": [
        {
          "output_type": "display_data",
          "data": {
            "text/plain": [
              "<Figure size 640x480 with 1 Axes>"
            ],
            "image/png": "[encoded data removed]"
          },
          "metadata": {}
        }
      ]
    },
    {
      "cell_type": "code",
      "source": [],
      "metadata": {
        "id": "2heNeUwQ5Sut"
      },
      "execution_count": null,
      "outputs": []
    }
  ]
}